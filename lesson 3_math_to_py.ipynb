{
 "cells": [
  {
   "cell_type": "code",
   "execution_count": null,
   "id": "e3d60e53",
   "metadata": {},
   "outputs": [],
   "source": []
  },
  {
   "cell_type": "code",
   "execution_count": 13,
   "id": "2411ebf0",
   "metadata": {},
   "outputs": [
    {
     "name": "stdout",
     "output_type": "stream",
     "text": [
      "Mean:  3.125\n",
      "[0.80317451 0.42521003 0.42521003 0.04724556 0.33071891 0.33071891\n",
      " 0.33071891 0.70868339]\n",
      "1.3562026818605375\n"
     ]
    }
   ],
   "source": [
    "import statistics, math\n",
    "import numpy as np\n",
    "data = [1, 2, 2, 3, 4, 4, 4, 5]\n",
    "arr=np.array(data)\n",
    "sum = np.sum(data)\n",
    "mean = sum/len(data)\n",
    "print (\"Mean: \",mean)\n",
    "\n",
    "\n",
    "stdev=np.sqrt((arr-mean)**2/(len(data)-1))\n",
    "print(stdev)\n",
    "print(statistics.stdev(data))"
   ]
  },
  {
   "cell_type": "code",
   "execution_count": 16,
   "id": "3f5fc578",
   "metadata": {},
   "outputs": [
    {
     "name": "stdout",
     "output_type": "stream",
     "text": [
      "4\n",
      "3.0\n"
     ]
    }
   ],
   "source": [
    "import statistics, math\n",
    "import numpy as np\n",
    "data = [1, 2, 2, 3, 4, 4, 4, 5]\n",
    "\n",
    "arr=np.array(data)\n",
    "third_quantile = sorted(data) [math.floor(len(data)*0.75)]\n",
    "print(third_quantile)\n",
    "\n",
    "print(math.log(27,3))"
   ]
  },
  {
   "cell_type": "code",
   "execution_count": 17,
   "id": "270bff1f",
   "metadata": {},
   "outputs": [
    {
     "name": "stdout",
     "output_type": "stream",
     "text": [
      "sin(60):  0.8660254037844386\n",
      "cos(60):  0.5000000000000001\n",
      "tan(60):  1.7320508075688767\n"
     ]
    }
   ],
   "source": [
    "angle_deg=60\n",
    "angle_rad=math.radians(angle_deg)\n",
    "print(\"sin(60): \",math.sin(angle_rad))\n",
    "print(\"cos(60): \",math.cos(angle_rad))\n",
    "print(\"tan(60): \",math.tan(angle_rad))"
   ]
  },
  {
   "cell_type": "code",
   "execution_count": 19,
   "id": "24740260",
   "metadata": {},
   "outputs": [
    {
     "data": {
      "text/plain": [
       "array([2, 1, 2, 2, 2, 1, 2, 1, 1, 1])"
      ]
     },
     "execution_count": 19,
     "metadata": {},
     "output_type": "execute_result"
    }
   ],
   "source": [
    "np.random.randint(1,3,10)"
   ]
  },
  {
   "cell_type": "code",
   "execution_count": 24,
   "id": "325959de",
   "metadata": {},
   "outputs": [
    {
     "name": "stdout",
     "output_type": "stream",
     "text": [
      "[3, 1, 4]\n",
      "[4, 3, 1]\n"
     ]
    }
   ],
   "source": [
    "nums = [5, 3, 8, 1, 4, 9]\n",
    "filtered = [n for n in nums if n<5]\n",
    "sorted_nums = sorted(filtered,reverse = True)\n",
    "print(filtered)\n",
    "print(sorted_nums)"
   ]
  }
 ],
 "metadata": {
  "kernelspec": {
   "display_name": "Python 3",
   "language": "python",
   "name": "python3"
  },
  "language_info": {
   "codemirror_mode": {
    "name": "ipython",
    "version": 3
   },
   "file_extension": ".py",
   "mimetype": "text/x-python",
   "name": "python",
   "nbconvert_exporter": "python",
   "pygments_lexer": "ipython3",
   "version": "3.12.1"
  }
 },
 "nbformat": 4,
 "nbformat_minor": 5
}
